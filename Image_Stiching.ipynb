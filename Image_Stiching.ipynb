{
  "cells": [
    {
      "cell_type": "code",
      "execution_count": 1,
      "metadata": {
        "id": "JqqrpEsrMkct"
      },
      "outputs": [],
      "source": [
        "import os\n",
        "\n",
        "from PIL import Image\n",
        "\n",
        "import cv2\n",
        "\n",
        "import numpy as np\n",
        "\n",
        "\n",
        "# from PIL import Image\n",
        "\n",
        "# Importing the Image module from the Python Imaging Library (PIL).\n",
        "\n",
        "\n",
        "\n",
        "def gather_sub_images(puzzle):\n",
        "\n",
        "    # Function to gather sub-images from a specified directory.\n",
        "\n",
        "\n",
        "\n",
        "    sub_images = []\n",
        "\n",
        "    for filename in os.listdir(puzzle):\n",
        "\n",
        "        # Loop through files in the specified directory.\n",
        "\n",
        "\n",
        "\n",
        "        if filename.endswith(\".png\"):  \n",
        "\n",
        "            # Check if the file has a .jpg extension.\n",
        "\n",
        "            \n",
        "            image_path = os.path.join(puzzle, filename)\n",
        "\n",
        "            # Create the full path to the image.\n",
        "\n",
        "\n",
        "\n",
        "            sub_images.append(Image.open(image_path))\n",
        "\n",
        "            # Open and append the image to the list.\n",
        "\n",
        "\n",
        "\n",
        "    return sub_images\n",
        "\n",
        "    # Return the list of gathered sub-images."
      ]
    },
    {
      "cell_type": "code",
      "execution_count": 2,
      "metadata": {},
      "outputs": [
        {
          "data": {
            "text/plain": [
              "'e:\\\\UNI Semester Done\\\\IDS\\\\Assignment3_i221866_D\\\\Assignment3_i221866_D\\\\material\\\\Q2'"
            ]
          },
          "execution_count": 2,
          "metadata": {},
          "output_type": "execute_result"
        }
      ],
      "source": [
        "\n",
        "import os\n",
        "\n",
        "\n",
        "os.getcwd()  \n",
        "\n",
        "# This will show the current working directory\n"
      ]
    },
    {
      "cell_type": "code",
      "execution_count": 3,
      "metadata": {},
      "outputs": [],
      "source": [
        "import sys\n",
        "\n",
        "\n",
        "sys.path.append('material')\n"
      ]
    },
    {
      "cell_type": "code",
      "execution_count": 4,
      "metadata": {
        "colab": {
          "base_uri": "https://localhost:8080/",
          "height": 1000
        },
        "id": "gttAzVxbMalT",
        "outputId": "538d29c1-9bde-40d9-f317-9b8f8e2c2995"
      },
      "outputs": [],
      "source": [
        "def preprocess_images(sub_images):\n",
        "\n",
        "    # Function to preprocess a list of images.\n",
        "\n",
        "    # Add preprocessing steps as needed, such as resizing, alignment, and enhancement\n",
        "\n",
        "    processed_images = [img.resize((100, 100)) for img in sub_images]  \n",
        "\n",
        "    # Resizing each image to a specified size (e.g., 100x100). Adjust size as needed.\n",
        "\n",
        "\n",
        "\n",
        "    return processed_images\n",
        "\n",
        "    # Return the list of processed images.\n"
      ]
    },
    {
      "cell_type": "markdown",
      "metadata": {},
      "source": [
        "for image 1"
      ]
    },
    {
      "cell_type": "code",
      "execution_count": 5,
      "metadata": {},
      "outputs": [],
      "source": [
        "from PIL import Image\n",
        "\n",
        "def stitch_images1(image_list):\n",
        "    # Check if there are enough images for the specified grid\n",
        "    if len(image_list) != 6:\n",
        "        print(\"The number of images should be 6 for a 2x3 grid.\")\n",
        "        return None\n",
        "\n",
        "    # Get the dimensions (width and height) of the first image in the list\n",
        "    image_width, image_height = image_list[0].size\n",
        "\n",
        "    # Create an empty canvas to hold the stitched image\n",
        "    canvas_width = image_width * 3\n",
        "    canvas_height = image_height * 2\n",
        "    canvas = Image.new('RGB', (canvas_width, canvas_height))\n",
        "\n",
        "    # Loop through the image list and place each image on the canvas\n",
        "    for i in range(6):\n",
        "        # Calculate the row and column indices for the current image\n",
        "        row = i // 3\n",
        "        col = i % 3\n",
        "\n",
        "        # Calculate the coordinates for placing the image on the canvas\n",
        "        x_start = col * image_width\n",
        "        y_start = row * image_height\n",
        "\n",
        "        # Place the image on the canvas\n",
        "        canvas.paste(image_list[i], (x_start, y_start))\n",
        "\n",
        "    return canvas\n"
      ]
    },
    {
      "cell_type": "code",
      "execution_count": 6,
      "metadata": {
        "colab": {
          "base_uri": "https://localhost:8080/",
          "height": 1000
        },
        "id": "5xrpmMU24zvE",
        "outputId": "bbf86fff-6d23-47e1-d7bc-5136782a0165"
      },
      "outputs": [],
      "source": [
        "def stitch_sub_images1(processed_images):\n",
        " \n",
        "    # Function to stitch a list of processed images into a final image.\n",
        "    \n",
        "    processed_images[1], processed_images[2] = processed_images[2], processed_images[1]\n",
        "    processed_images[1], processed_images[3] = processed_images[3], processed_images[1]\n",
        "    processed_images[3], processed_images[5] = processed_images[5], processed_images[3]\n",
        "    processed_images[4], processed_images[5] = processed_images[5], processed_images[4]\n",
        "\n",
        "    \n",
        "\n",
        "    processed_images[1] = processed_images[1].rotate(-90)\n",
        "    processed_images[4] = processed_images[4].rotate(-45)\n",
        "    \n",
        "    # Rotate image 4 by 90 degrees to the left\n",
        "    processed_images[5] = processed_images[5].rotate(90)\n",
        "    \n",
        "    # Flip image 4 and 5 horizontally\n",
        "    processed_images[3] = processed_images[3].transpose(Image.FLIP_LEFT_RIGHT)\n",
        "    processed_images[5] = processed_images[5].transpose(Image.FLIP_LEFT_RIGHT)\n",
        "    \n",
        "    \n",
        "\n",
        "    # Use the provided stitching helper or implement your own stitching logic\n",
        "\n",
        "    final_image = stitch_images1(processed_images)\n",
        "\n",
        "    # Call a stitching helper function (not provided in the given code) or implement custom stitching logic.\n",
        "\n",
        "\n",
        "\n",
        "    return final_image\n",
        "\n",
        "    # Return the final stitched image.\n"
      ]
    },
    {
      "cell_type": "code",
      "execution_count": 7,
      "metadata": {},
      "outputs": [],
      "source": [
        "\n",
        "def save_output1(final_image, output_path):\n",
        "\n",
        "    # Function to save the final image to a specified output path.\n",
        "\n",
        "\n",
        "\n",
        "    final_image.save(output_path)\n",
        "\n",
        "    # Save the final image to the specified output path.\n"
      ]
    },
    {
      "cell_type": "code",
      "execution_count": 8,
      "metadata": {},
      "outputs": [],
      "source": [
        "\n",
        "def main1(puzzle, output_path):\n",
        "\n",
        "    # Main function orchestrating the image reconstruction process.\n",
        "\n",
        "\n",
        "\n",
        "    # Step 1: Data Retrieval\n",
        "\n",
        "    sub_images = gather_sub_images(puzzle)\n",
        "\n",
        "\n",
        "\n",
        "    # Step 2: Preprocessing\n",
        "\n",
        "    processed_images = preprocess_images(sub_images)\n",
        "\n",
        "\n",
        "\n",
        "    # Step 3: Stitching\n",
        "\n",
        "\n",
        "\n",
        "    final_image = stitch_sub_images1(processed_images)\n",
        "\n",
        "\n",
        "    # Step 4: Output\n",
        "\n",
        "    final_image.show()\n",
        "\n",
        "\n",
        "\n",
        "# Example usage:\n",
        "\n",
        "folder_path = \"puzzle/img1\"\n",
        "\n",
        "output_path = \"puzzle/reconstructed_image1.jpg\"\n",
        "\n",
        "main1(folder_path, output_path)\n",
        "\n"
      ]
    },
    {
      "cell_type": "markdown",
      "metadata": {},
      "source": [
        "for image 2"
      ]
    },
    {
      "cell_type": "code",
      "execution_count": 9,
      "metadata": {},
      "outputs": [],
      "source": [
        "import os\n",
        "\n",
        "from PIL import Image\n",
        "\n",
        "import cv2\n",
        "\n",
        "\n",
        "# from PIL import Image\n",
        "\n",
        "# Importing the Image module from the Python Imaging Library (PIL).\n",
        "\n",
        "\n",
        "\n",
        "def gather_sub_images2(puzzle2):\n",
        "\n",
        "    # Function to gather sub-images from a specified directory.\n",
        "\n",
        "\n",
        "\n",
        "    sub_images = []\n",
        "\n",
        "    for filename in os.listdir(puzzle2):\n",
        "\n",
        "        # Loop through files in the specified directory.\n",
        "\n",
        "\n",
        "\n",
        "        if filename.endswith(\".png\"):  \n",
        "\n",
        "            # Check if the file has a .jpg extension.\n",
        "\n",
        "            \n",
        "            image_path = os.path.join(puzzle2, filename)\n",
        "\n",
        "            # Create the full path to the image.\n",
        "\n",
        "\n",
        "\n",
        "            sub_images.append(Image.open(image_path))\n",
        "\n",
        "            # Open and append the image to the list.\n",
        "\n",
        "\n",
        "\n",
        "    return sub_images\n",
        "\n",
        "    # Return the list of gathered sub-images."
      ]
    },
    {
      "cell_type": "code",
      "execution_count": 10,
      "metadata": {},
      "outputs": [
        {
          "data": {
            "text/plain": [
              "'e:\\\\UNI Semester Done\\\\IDS\\\\Assignment3_i221866_D\\\\Assignment3_i221866_D\\\\material\\\\Q2'"
            ]
          },
          "execution_count": 10,
          "metadata": {},
          "output_type": "execute_result"
        }
      ],
      "source": [
        "\n",
        "import os\n",
        "\n",
        "\n",
        "os.getcwd()  \n",
        "\n",
        "# This will show the current working directory\n"
      ]
    },
    {
      "cell_type": "code",
      "execution_count": 11,
      "metadata": {},
      "outputs": [],
      "source": [
        "import sys\n",
        "\n",
        "\n",
        "sys.path.append('material')\n"
      ]
    },
    {
      "cell_type": "code",
      "execution_count": 12,
      "metadata": {},
      "outputs": [],
      "source": [
        "def preprocess_images2(sub_images2):\n",
        "    # Function to preprocess a list of images.\n",
        "    # Add preprocessing steps as needed, such as resizing, alignment, and enhancement\n",
        "\n",
        "    processed_images2 = [img.resize((100, 100)) for img in sub_images2]\n",
        "    # Resizing each image to a specified size (e.g., 100x100). Adjust size as needed.\n",
        "\n",
        "    return processed_images2\n",
        "    # Return the list of processed images.\n"
      ]
    },
    {
      "cell_type": "code",
      "execution_count": 13,
      "metadata": {},
      "outputs": [],
      "source": [
        "from PIL import Image\n",
        "\n",
        "def stitch_images2(image_list):\n",
        "    # Check if there are enough images for the specified grid\n",
        "    if len(image_list) != 12:\n",
        "        print(\"Error: The number of images should be 12 for a 3x4 grid.\")\n",
        "        return None\n",
        "\n",
        "    # Get the dimensions (width and height) of the first image in the list\n",
        "    image_width, image_height = image_list[0].size\n",
        "\n",
        "    # Create an empty canvas to hold the stitched image\n",
        "    canvas_width = image_width * 4\n",
        "    canvas_height = image_height * 3\n",
        "    canvas = Image.new('RGB', (canvas_width, canvas_height))\n",
        "\n",
        "    # Loop through the image list and place each image on the canvas\n",
        "    for i, img in enumerate(image_list):\n",
        "        # Calculate the row and column indices for the current image\n",
        "        row, col = divmod(i, 4)\n",
        "\n",
        "        # Calculate the coordinates for placing the image on the canvas\n",
        "        x_start = col * image_width\n",
        "        y_start = row * image_height\n",
        "\n",
        "        # Place the image on the canvas\n",
        "        canvas.paste(img, (x_start, y_start))\n",
        "\n",
        "    return canvas\n"
      ]
    },
    {
      "cell_type": "code",
      "execution_count": 14,
      "metadata": {},
      "outputs": [],
      "source": [
        "from PIL import Image\n",
        "import numpy as np\n",
        "\n",
        "def stitch_sub_images2(processed_images):\n",
        "    modified_images = [\n",
        "        Image.fromarray(np.array(processed_images[9])).rotate(-65),  # Rotate image 9 by 65 degrees counterclockwise\n",
        "        Image.fromarray(np.array(processed_images[4])),\n",
        "        Image.fromarray(np.array(processed_images[1])),\n",
        "        Image.fromarray(np.array(processed_images[0])),\n",
        "        Image.fromarray(np.array(processed_images[11])),\n",
        "        Image.fromarray(np.array(processed_images[10])),\n",
        "        Image.fromarray(np.array(processed_images[3])).rotate(-45),  # Rotate image 3 by 45 degrees counterclockwise\n",
        "        Image.fromarray(np.array(processed_images[6])),\n",
        "        Image.fromarray(np.array(processed_images[8])),\n",
        "        Image.fromarray(np.array(processed_images[7])).rotate(90),  # Rotate image 7 by 90 degrees clockwise\n",
        "        Image.fromarray(np.array(processed_images[2])),  # Flip image 2 horizontally\n",
        "        Image.fromarray(np.array(processed_images[5]))   # Flip image 5 horizontally\n",
        "    ]\n",
        "\n",
        "    \n",
        "    modified_images[2] = modified_images[2].transpose(Image.FLIP_LEFT_RIGHT)\n",
        "    modified_images[4] = modified_images[4].transpose(Image.FLIP_LEFT_RIGHT)\n",
        "\n",
        "    final_image = stitch_images2(modified_images)\n",
        "\n",
        "    return final_image\n"
      ]
    },
    {
      "cell_type": "code",
      "execution_count": 15,
      "metadata": {},
      "outputs": [],
      "source": [
        "from PIL import Image\n",
        "\n",
        "def save_output2(final_image2, output_path2):\n",
        "    # Function to save the final image to a specified output path.\n",
        "    final_image2.save(output_path2)\n",
        "    # Save the final image to the specified output path.\n"
      ]
    },
    {
      "cell_type": "code",
      "execution_count": 16,
      "metadata": {},
      "outputs": [],
      "source": [
        "def main2(puzzle2, output_path2):\n",
        "    # Main function orchestrating the image reconstruction process.\n",
        "\n",
        "    # Step 1: Data Retrieval\n",
        "    sub_images2 = gather_sub_images2(puzzle2)\n",
        "\n",
        "    # Step 2: Preprocessing\n",
        "    processed_images2 = preprocess_images2(sub_images2)\n",
        "\n",
        "    # Step 3: Stitching\n",
        "    final_image2 = stitch_sub_images2(processed_images2)\n",
        "\n",
        "    # Step 4: Output\n",
        "    save_output2(final_image2, output_path2)\n",
        "    final_image2.show()\n",
        "# Example usage:\n",
        "folder_path2 = \"puzzle/img2\"\n",
        "output_path2 = \"puzzle/reconstructed_image.jpg\"\n",
        "main2(folder_path2, output_path2)\n"
      ]
    }
  ],
  "metadata": {
    "colab": {
      "provenance": []
    },
    "kernelspec": {
      "display_name": "Python 3",
      "name": "python3"
    },
    "language_info": {
      "codemirror_mode": {
        "name": "ipython",
        "version": 3
      },
      "file_extension": ".py",
      "mimetype": "text/x-python",
      "name": "python",
      "nbconvert_exporter": "python",
      "pygments_lexer": "ipython3",
      "version": "3.11.9"
    }
  },
  "nbformat": 4,
  "nbformat_minor": 0
}
